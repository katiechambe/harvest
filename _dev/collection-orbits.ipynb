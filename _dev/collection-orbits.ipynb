{
 "cells": [
  {
   "cell_type": "markdown",
   "id": "9fffc4b7-1a4f-4bb8-a161-ead2efa4c1c3",
   "metadata": {},
   "source": [
    "At a given snapshot, get all orbit data for each pair in pair catalog"
   ]
  },
  {
   "cell_type": "markdown",
   "id": "1f106a45-2d1b-4f35-aa13-f6f84d4d6242",
   "metadata": {},
   "source": [
    "This notebook will pull and save orbits with data:\n",
    "\n",
    "- (float) Redshift \n",
    "- (flaot) Scale\n",
    "- (int) GroupNum\n",
    "- (int) SubID1\n",
    "- (int) SubID2\n",
    "- (float) Sub1StellarMass\n",
    "- (float) Sub2StellarMass\n",
    "- (obj) Group Flag vs. z\n",
    "- (obj) Merge Flag vs. z\n",
    "- (int) Merger snapshot \n",
    "- (float) Merger redshift \n",
    "- (float) Starting Redshift (FOF Group Infall)\n",
    "- (int) Starting Snapshot (FOF Group Infall)\n",
    "- (obj) Pos1 vs. z \n",
    "- (obj) Pos2 vs. z\n",
    "- (obj) Sep vs. z\n",
    "- (obj) Vel1 vs. z\n",
    "- (obj) Vel2 vs. z\n",
    "- (obj) RelVel vs. z\n",
    "- (float) Separation before merger\n",
    "- (int) Pairkey (maybe the SubhaloID 1+2 at z=4)\n"
   ]
  },
  {
   "cell_type": "code",
   "execution_count": 1,
   "id": "3a8fd337-00b1-4302-8660-198c39d6683b",
   "metadata": {},
   "outputs": [
    {
     "name": "stdout",
     "output_type": "stream",
     "text": [
      "imported h5py...\n",
      "modules seem to have loaded?\n"
     ]
    }
   ],
   "source": [
    "import os\n",
    "import h5py\n",
    "import numpy as np\n",
    "import matplotlib.pyplot as plt\n",
    "import sys\n",
    "import importlib\n",
    "from astropy.cosmology import FlatLambdaCDM\n",
    "\n",
    "from utils_orbs.orb_paths import SetupPaths\n",
    "from utils_orbs.merger_trees import TraceMergerTree\n",
    "from utils_orbs.readMergerHistoryFiles import FindHistory\n",
    "from utils_orbs.vectorCorrection import vectorCorrection as vector\n",
    "\n",
    "\n",
    "paths = SetupPaths()"
   ]
  },
  {
   "cell_type": "code",
   "execution_count": 2,
   "id": "35c77979-8bee-423a-b133-36768884155e",
   "metadata": {},
   "outputs": [],
   "source": [
    "plt.show();\n",
    "plt.rcParams.update({'font.size':20,\"xtick.direction\":\"in\",\"ytick.direction\":\"in\", \n",
    "                     \"xtick.top\":True, \"ytick.right\":True,\"text.usetex\":False,\n",
    "                     \"xtick.labelsize\":18,\"ytick.labelsize\":18})"
   ]
  },
  {
   "cell_type": "markdown",
   "id": "7f56f271-7f08-445d-a70c-1d9f2222c321",
   "metadata": {},
   "source": [
    "## Make the time, redshift, scale, snapshot conversion file\n"
   ]
  },
  {
   "cell_type": "markdown",
   "id": "f9ae654a-c380-4532-bc68-f258bba9683d",
   "metadata": {},
   "source": [
    "First, make the simulation data arrays, including:\n",
    "snapshot, time, redshift, and scale\n",
    "\n",
    "Will use this for all conversions in the future between redshift and snapshot number, etc.\n"
   ]
  },
  {
   "cell_type": "code",
   "execution_count": 4,
   "id": "817ccd07-0847-43aa-a576-e234abd86e7a",
   "metadata": {},
   "outputs": [
    {
     "name": "stdout",
     "output_type": "stream",
     "text": [
      "snapshot information file created\n"
     ]
    }
   ],
   "source": [
    "if os.path.exists(f\"{paths.path_data}collection/misc/snapshot_data.hdf5\"):\n",
    "    print (\"file already exists\")\n",
    "    \n",
    "else:    \n",
    "    ## import file with cosmological parameters for TNG-hydro\n",
    "    f = h5py.File(f\"{paths.path_data}collection/misc/simulation.hdf5\")\n",
    "\n",
    "    ## initialize cosmology\n",
    "    H0 = 100*f['Header'].attrs['HubbleParam']\n",
    "    Omega0 = f['Header'].attrs['Omega0']\n",
    "    OmegaB = f['Header'].attrs['OmegaBaryon']\n",
    "    OmegaL = f['Header'].attrs['OmegaLambda']\n",
    "    cosmo = FlatLambdaCDM(H0=67.74, Om0=Omega0, Ob0=OmegaB)\n",
    "\n",
    "    ## initialize data structure\n",
    "    data_dict = {}\n",
    "    array_names = [\"Snapshot\",\"Redshift\",\"Scale\",\"Lookback Time\",\"Age\"]\n",
    "    for arr in array_names:\n",
    "        data_dict[arr] = []\n",
    "\n",
    "    ## create data structure for time, redshift, scale, etc. as fxn of snapshot\n",
    "    for i in range(100):\n",
    "        snapshot = i\n",
    "        redshift = f['Snapshots'][f'{i}']['Header'].attrs['Redshift']\n",
    "        scale = 1 / (1 + redshift)\n",
    "        lookback = cosmo.lookback_time(redshift).value\n",
    "        age = cosmo.age(redshift).value\n",
    "\n",
    "        data_dict['Snapshot'].append(snapshot)\n",
    "        data_dict['Redshift'].append(redshift)\n",
    "        data_dict['Scale'].append(scale)\n",
    "        data_dict['Lookback Time'].append(lookback)\n",
    "        data_dict['Age'].append(age)\n",
    "\n",
    "    ## clsoe data file     \n",
    "    f.close()\n",
    "\n",
    "    ## store time data into hdf5 file ~\n",
    "\n",
    "    f = h5py.File(f\"{paths.path_data}collection/misc/snapshot_data.hdf5\", 'w')\n",
    "\n",
    "    info_dict = {\"Snapshot\":\"Snapshot number\",\n",
    "                 \"Redshift\":\"Redshift at snapshot\",\n",
    "                 \"Scale\":\"Scale at snapshot\",\n",
    "                 \"Lookback Time\":\"Time that has elapsed from snapshot to z=0 (in Gyr)\",\n",
    "                 \"Age\":\"Age of the Universe (in Gyr)\"}\n",
    "\n",
    "    for key, val in data_dict.items():\n",
    "        val = np.array(val)\n",
    "        dset = f.create_dataset(f'/{key}', \n",
    "                                shape=val.shape,\n",
    "                                dtype=val.dtype)\n",
    "        dset.attrs[key] = info_dict[key]\n",
    "        dset[:] = val\n",
    "\n",
    "    f.close()    \n",
    "    \n",
    "    print(\"snapshot information file created\")"
   ]
  },
  {
   "cell_type": "code",
   "execution_count": null,
   "id": "b9c9dcf0-47a8-45cc-948b-88eb0ab686d1",
   "metadata": {},
   "outputs": [],
   "source": []
  }
 ],
 "metadata": {
  "kernelspec": {
   "display_name": "Python 3 (ipykernel)",
   "language": "python",
   "name": "python3"
  },
  "language_info": {
   "codemirror_mode": {
    "name": "ipython",
    "version": 3
   },
   "file_extension": ".py",
   "mimetype": "text/x-python",
   "name": "python",
   "nbconvert_exporter": "python",
   "pygments_lexer": "ipython3",
   "version": "3.8.18"
  }
 },
 "nbformat": 4,
 "nbformat_minor": 5
}
