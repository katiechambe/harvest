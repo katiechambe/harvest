{
 "cells": [
  {
   "cell_type": "markdown",
   "id": "40442469-df02-45bf-a5e9-284e42b07d5f",
   "metadata": {},
   "source": [
    "This notebook uses the data from the pears project to collect individual catalogs of low mass and high mass major and minor pairs."
   ]
  },
  {
   "cell_type": "code",
   "execution_count": 1,
   "id": "74951e64-042f-4e22-ab81-b96754bb2b6f",
   "metadata": {},
   "outputs": [
    {
     "name": "stdout",
     "output_type": "stream",
     "text": [
      "imported h5py...\n",
      "modules seem to have loaded?\n"
     ]
    }
   ],
   "source": [
    "import h5py\n",
    "import numpy as np\n",
    "import matplotlib.pyplot as plt\n",
    "import sys\n",
    "import importlib\n",
    "import pandas as pd\n",
    "\n",
    "from utils_orbs.orb_paths import SetupPaths\n",
    "import utils_orbs.readsubfHDF5Py3 as readSub\n",
    "# from utils.read_group_cats import ReadCats\n",
    "from utils_orbs.merger_trees import TraceMergerTree\n",
    "from utils_orbs.readMergerHistoryFiles import FindHistory\n",
    "from utils_orbs.vectorCorrection import vectorCorrection as vector\n",
    "\n",
    "paths = SetupPaths()"
   ]
  },
  {
   "cell_type": "code",
   "execution_count": 2,
   "id": "2a5e5727-9ceb-44a2-a258-93a9aa1a5e06",
   "metadata": {},
   "outputs": [],
   "source": [
    "plt.show();\n",
    "plt.rcParams.update({'font.size':20,\"xtick.direction\":\"in\",\"ytick.direction\":\"in\", \n",
    "                     \"xtick.top\":True, \"ytick.right\":True,\"text.usetex\":False,\n",
    "                     \"xtick.labelsize\":18,\"ytick.labelsize\":18})"
   ]
  },
  {
   "cell_type": "markdown",
   "id": "1109aae3-c308-48f0-bde7-c06250b427f4",
   "metadata": {},
   "source": [
    "## Create data catalog \n",
    "\n",
    "get all pair types (minor low mass and minor high mass) ~ \n",
    "note: snapshot 48 is missing in the hydro ver of TNG100"
   ]
  },
  {
   "cell_type": "code",
   "execution_count": 3,
   "id": "758e0830-747b-40c3-bf39-ac0f35b948e1",
   "metadata": {},
   "outputs": [],
   "source": [
    "# make functions to get data at the requested snapshot\n",
    "def get_primmask(primstells, size):\n",
    "    if size == \"low\":\n",
    "        mask = (primstells > 0.01) & (primstells < 0.5)\n",
    "    elif size == \"high\":\n",
    "        mask = (primstells > 0.5) & (primstells < 10)\n",
    "    return mask\n",
    "\n",
    "def get_groupmask(groupmass, size):\n",
    "    if size == \"low\":\n",
    "        mask = (groupmass > 8) & (groupmass < 50)\n",
    "    elif size == \"high\":\n",
    "        mask = (groupmass > 100) & (groupmass < 650)\n",
    "    return mask"
   ]
  },
  {
   "cell_type": "code",
   "execution_count": 9,
   "id": "29baec0a-a906-4bc8-bc85-99738a07711d",
   "metadata": {},
   "outputs": [
    {
     "data": {
      "text/plain": [
       "'/xdisk/gbesla/katiechambe/orbs/data/'"
      ]
     },
     "execution_count": 9,
     "metadata": {},
     "output_type": "execute_result"
    }
   ],
   "source": []
  },
  {
   "cell_type": "code",
   "execution_count": 15,
   "id": "41e82489-4fc9-460c-ba84-bf3daadf42d3",
   "metadata": {},
   "outputs": [],
   "source": [
    "def pull_pairs(snapshot, size, massratio):\n",
    "    units_dict = {\n",
    "                \"Group ID\":\"Group Number in Subfind Catalogs\", \n",
    "                \"Group Mass\":\"Physical mass from Group_M_TopHat200 -- 1e10 Msun\",\n",
    "                \"Group Radius\":\"Physical radius from Group_R_TopHat200 -- kpc\",\n",
    "                \"Group Nsubs\":\"Number of subhalos in group\",\n",
    "                \"Sub1 ID\":  \"Subhalo ID at current snapshot\",\n",
    "                \"Sub2 ID\":  \"Subhalo ID at current snapshot\",\n",
    "                \"Sub1 Mass\": \"Subhalo mass at current snapshot -- 1e10 Msun\",\n",
    "                \"Sub2 Mass\": \"Subhalo mass at current snapshot -- 1e10 Msun\",\n",
    "                \"Sub1 Stellar Mass\": \"Stellar masses from abundance matching -- 1e10 Msun\",\n",
    "                \"Sub2 Stellar Mass\": \"Stellar masses from abundance matching -- 1e10 Msun\",\n",
    "                \"Sub1 Pos\": \"Subhalo physical position in box x,y,z -- kpc\",\n",
    "                \"Sub2 Pos\": \"Subhalo physical position in box x,y,z -- kpc\",\n",
    "                \"Sub1 Vel\": \"Subhalo velocity in vx, vy, vz -- km/s\",\n",
    "                \"Sub2 Vel\": \"Subhalo velocity in vx, vy, vz -- km/s\",\n",
    "                \"Sub1 MassType\": \"Mass of bound particles - gas, DM, empty, tracers, stars, BHs -- in 1e10 Msun\",\n",
    "                \"Sub2 MassType\": \"Mass of bound particles - gas, DM, empty, tracers, stars, BHs -- in 1e10 Msun\",\n",
    "                \"Separation\": \"Physical separation between primary and secondary in kpc\",\n",
    "                \"Comoving Separation\":\"Comoving separation between primary and secondary in ckpc\",\n",
    "                \"RelVel\": \"Relative velocity between primary and secondary in km/s\",\n",
    "                \"Stellar Mass Ratio\": \"Stellar mass ratio of secondary over primary\", # in this case- it's by primary subhalo mass\n",
    "                \"Realization\": \"Stellar mass realization (0-1000)\",\n",
    "                \"Sub1 BHMass\": \"Sum of the masses of all blackholes -- 1e10 Msun\",\n",
    "                \"Sub2 BHMass\": \"Sum of the masses of all blackholes -- 1e10 Msun\",\n",
    "                \"Sub1 BHMdot\": \"Instantaneous accretion rates of all blackholes -- 1e10 Msun / 0.978Gyr\",\n",
    "                \"Sub2 BHMdot\": \"Instantaneous accretion rates of all blackholes -- 1e10 Msun / 0.978Gyr\",\n",
    "                \"Sub1 SFR\": \"Sum of the individual SFRs of all gas cells in subhalo -- Msun / yr\",\n",
    "                \"Sub2 SFR\": \"Sum of the individual SFRs of all gas cells in subhalo -- Msun / yr\",\n",
    "                \"Sub1 SFRinRad\": \"Sum of SFRs of all gas cells within twice the stellar half mass radius -- Msun / yr\",\n",
    "                \"Sub2 SFRinRad\": \"Sum of SFRs of all gas cells within twice the stellar half mass radius -- Msun / yr\",\n",
    "                \"Sub1 GasMetallicity\": \"Mz/Mtot, where Z = any element above He within 2x stellar half mass radius -- unitless\",\n",
    "                \"Sub2 GasMetallicity\": \"Mz/Mtot, where Z = any element above He within 2x stellar half mass radius -- unitless\",\n",
    "                \"TripleFlag\": \"0 if no tertiary with mass ratio > 1:10 of secondary, 1 if large tertiary, 2 if other problem occurred\"\n",
    "                }\n",
    "    \n",
    "    snapdata = h5py.File(f\"/xdisk/gbesla/katiechambe/pears/data/pairs/TNG_{snapshot}_10.hdf5\",\"r\")\n",
    "    pairs = {}\n",
    "    for key, val in snapdata['pairs']['hydro'].items():\n",
    "        pairs[key]=np.array(val)\n",
    "    redshift = snapdata[\"Header\"].attrs[\"Redshift\"]\n",
    "    scale = 1/(1+redshift)\n",
    "    snapdata.close()\n",
    "\n",
    "    maskk  = pairs['Realization']==-1    \n",
    "\n",
    "    medianpairs = {}\n",
    "    for key in pairs.keys():\n",
    "        medianpairs[key] = pairs[key][maskk]\n",
    "\n",
    "    # get out the things that are in dwarf groups:\n",
    "    group_mask = get_groupmask(medianpairs['Group Mass'],size)\n",
    "    primary_mask = get_primmask(medianpairs['Sub1 Stellar Mass'], size)\n",
    "    major_mask = (medianpairs['Sub2 Stellar Mass']/medianpairs['Sub1 Stellar Mass'] > 1/4)\n",
    "    minor_mask = (medianpairs['Sub2 Stellar Mass']/medianpairs['Sub1 Stellar Mass'] > 1/10) & ~major_mask\n",
    "\n",
    "    if massratio == \"major\":\n",
    "        fullmask = group_mask&primary_mask&major_mask\n",
    "    elif massratio == \"minor\":\n",
    "        fullmask = group_mask&primary_mask&minor_mask\n",
    "\n",
    "        # make data file\n",
    "    f = h5py.File(f\"{paths.path_data}collection/{size}mass_{massratio}_{snapshot}.hdf5\", 'w')\n",
    "    header_dict = {\"Details\":f\"{size} mass {massratio} pairs at z={redshift:.1f}\",\n",
    "            \"Snapshot\":snapshot,\n",
    "            \"Scale\":scale,\n",
    "            \"Redshift\":redshift,\n",
    "            \"Simulation\":\"TNG100-1\"}\n",
    "\n",
    "    dset = f.create_group('/Header')\n",
    "    for key in header_dict.keys():\n",
    "        dset.attrs[key] = header_dict[key]\n",
    "\n",
    "    for key, val in medianpairs.items():\n",
    "        val = np.array(val)[fullmask]\n",
    "        dset = f.create_dataset(f'/{key}', \n",
    "                                shape=val.shape,\n",
    "                                dtype=val.dtype)\n",
    "        dset.attrs[key] = units_dict[key]\n",
    "        dset[:] = val\n",
    "\n",
    "    f.close()\n",
    "    print(f\"Snapshot {snapshot} - total number of all pairs, median pairs, and {size} median {massratio} pairs: {len(pairs['Sub1 Stellar Mass'])}, {len(medianpairs['Sub1 Stellar Mass'])}, {len(medianpairs['Sub1 Stellar Mass'][fullmask])}\")\n",
    "\n"
   ]
  },
  {
   "cell_type": "code",
   "execution_count": 16,
   "id": "0d6799b0-3802-4d38-a708-b0300fdfd665",
   "metadata": {},
   "outputs": [
    {
     "name": "stdout",
     "output_type": "stream",
     "text": [
      "Snapshot 30 - total number of all pairs, median pairs, and high median major pairs: 185244, 15437, 124\n"
     ]
    }
   ],
   "source": [
    "pull_pairs(30, \"high\", \"major\")"
   ]
  },
  {
   "cell_type": "code",
   "execution_count": 17,
   "id": "96fe575f-7475-41d2-bde0-f13ec07698ed",
   "metadata": {},
   "outputs": [
    {
     "name": "stdout",
     "output_type": "stream",
     "text": [
      "Snapshot 30 - total number of all pairs, median pairs, and low median major pairs: 185244, 15437, 1330\n"
     ]
    }
   ],
   "source": [
    "pull_pairs(30, \"low\", \"major\")"
   ]
  },
  {
   "cell_type": "code",
   "execution_count": 18,
   "id": "d8c02b23-6a00-4f7a-a03d-b19c1973356a",
   "metadata": {},
   "outputs": [
    {
     "name": "stdout",
     "output_type": "stream",
     "text": [
      "Snapshot 30 - total number of all pairs, median pairs, and low median minor pairs: 185244, 15437, 1196\n"
     ]
    }
   ],
   "source": [
    "pull_pairs(30, \"low\", \"minor\")"
   ]
  },
  {
   "cell_type": "code",
   "execution_count": 19,
   "id": "2d0f5583-7e9d-4cae-80fa-375e59df9b8e",
   "metadata": {},
   "outputs": [
    {
     "name": "stdout",
     "output_type": "stream",
     "text": [
      "Snapshot 30 - total number of all pairs, median pairs, and high median minor pairs: 185244, 15437, 129\n"
     ]
    }
   ],
   "source": [
    "pull_pairs(30, \"high\", \"minor\")"
   ]
  },
  {
   "cell_type": "code",
   "execution_count": 23,
   "id": "b485e73e-ecd9-440f-a73b-aaf7caef5b88",
   "metadata": {},
   "outputs": [
    {
     "name": "stdout",
     "output_type": "stream",
     "text": [
      "Snapshot 0 - total number of all pairs, median pairs, and low median major pairs: 0, 0, 0\n",
      "Snapshot 1 - total number of all pairs, median pairs, and low median major pairs: 0, 0, 0\n",
      "Snapshot 2 - total number of all pairs, median pairs, and low median major pairs: 0, 0, 0\n",
      "Snapshot 3 - total number of all pairs, median pairs, and low median major pairs: 0, 0, 0\n",
      "Snapshot 4 - total number of all pairs, median pairs, and low median major pairs: 48, 4, 0\n",
      "Snapshot 5 - total number of all pairs, median pairs, and low median major pairs: 108, 9, 1\n",
      "Snapshot 6 - total number of all pairs, median pairs, and low median major pairs: 264, 22, 0\n",
      "Snapshot 7 - total number of all pairs, median pairs, and low median major pairs: 600, 50, 4\n",
      "Snapshot 8 - total number of all pairs, median pairs, and low median major pairs: 1260, 105, 10\n",
      "Snapshot 9 - total number of all pairs, median pairs, and low median major pairs: 2220, 185, 12\n",
      "Snapshot 10 - total number of all pairs, median pairs, and low median major pairs: 3564, 297, 21\n",
      "Snapshot 11 - total number of all pairs, median pairs, and low median major pairs: 4848, 404, 25\n",
      "Snapshot 12 - total number of all pairs, median pairs, and low median major pairs: 8796, 733, 49\n",
      "Snapshot 13 - total number of all pairs, median pairs, and low median major pairs: 15108, 1259, 85\n",
      "Snapshot 14 - total number of all pairs, median pairs, and low median major pairs: 17748, 1479, 126\n",
      "Snapshot 15 - total number of all pairs, median pairs, and low median major pairs: 23628, 1969, 163\n",
      "Snapshot 16 - total number of all pairs, median pairs, and low median major pairs: 31224, 2602, 212\n",
      "Snapshot 17 - total number of all pairs, median pairs, and low median major pairs: 38460, 3205, 244\n",
      "Snapshot 18 - total number of all pairs, median pairs, and low median major pairs: 50100, 4175, 331\n",
      "Snapshot 19 - total number of all pairs, median pairs, and low median major pairs: 59292, 4941, 411\n",
      "Snapshot 20 - total number of all pairs, median pairs, and low median major pairs: 70812, 5901, 483\n",
      "Snapshot 21 - total number of all pairs, median pairs, and low median major pairs: 80112, 6676, 583\n",
      "Snapshot 22 - total number of all pairs, median pairs, and low median major pairs: 95592, 7966, 675\n",
      "Snapshot 23 - total number of all pairs, median pairs, and low median major pairs: 108588, 9049, 758\n",
      "Snapshot 24 - total number of all pairs, median pairs, and low median major pairs: 121356, 10113, 837\n",
      "Snapshot 25 - total number of all pairs, median pairs, and low median major pairs: 140208, 11684, 934\n",
      "Snapshot 26 - total number of all pairs, median pairs, and low median major pairs: 147684, 12307, 1027\n",
      "Snapshot 27 - total number of all pairs, median pairs, and low median major pairs: 159684, 13307, 1154\n",
      "Snapshot 28 - total number of all pairs, median pairs, and low median major pairs: 169368, 14114, 1193\n",
      "Snapshot 29 - total number of all pairs, median pairs, and low median major pairs: 178104, 14842, 1291\n",
      "Snapshot 30 - total number of all pairs, median pairs, and low median major pairs: 185244, 15437, 1330\n",
      "Snapshot 31 - total number of all pairs, median pairs, and low median major pairs: 191628, 15969, 1382\n",
      "Snapshot 32 - total number of all pairs, median pairs, and low median major pairs: 196284, 16357, 1393\n",
      "Snapshot 33 - total number of all pairs, median pairs, and low median major pairs: 201780, 16815, 1419\n",
      "Snapshot 34 - total number of all pairs, median pairs, and low median major pairs: 205728, 17144, 1394\n",
      "Snapshot 35 - total number of all pairs, median pairs, and low median major pairs: 209580, 17465, 1395\n",
      "Snapshot 36 - total number of all pairs, median pairs, and low median major pairs: 212676, 17723, 1393\n",
      "Snapshot 37 - total number of all pairs, median pairs, and low median major pairs: 215196, 17933, 1337\n",
      "Snapshot 38 - total number of all pairs, median pairs, and low median major pairs: 217020, 18085, 1337\n",
      "Snapshot 39 - total number of all pairs, median pairs, and low median major pairs: 218712, 18226, 1313\n",
      "Snapshot 40 - total number of all pairs, median pairs, and low median major pairs: 219468, 18289, 1330\n",
      "Snapshot 41 - total number of all pairs, median pairs, and low median major pairs: 219948, 18329, 1311\n",
      "Snapshot 42 - total number of all pairs, median pairs, and low median major pairs: 220116, 18343, 1263\n",
      "Snapshot 43 - total number of all pairs, median pairs, and low median major pairs: 220788, 18399, 1258\n",
      "Snapshot 44 - total number of all pairs, median pairs, and low median major pairs: 221376, 18448, 1259\n",
      "Snapshot 45 - total number of all pairs, median pairs, and low median major pairs: 220560, 18380, 1242\n",
      "Snapshot 46 - total number of all pairs, median pairs, and low median major pairs: 220152, 18346, 1205\n",
      "Snapshot 47 - total number of all pairs, median pairs, and low median major pairs: 220332, 18361, 1189\n",
      "Snapshot 49 - total number of all pairs, median pairs, and low median major pairs: 219756, 18313, 1124\n",
      "Snapshot 50 - total number of all pairs, median pairs, and low median major pairs: 219816, 18318, 1149\n",
      "Snapshot 51 - total number of all pairs, median pairs, and low median major pairs: 219216, 18268, 1098\n",
      "Snapshot 52 - total number of all pairs, median pairs, and low median major pairs: 219372, 18281, 1127\n",
      "Snapshot 53 - total number of all pairs, median pairs, and low median major pairs: 219240, 18270, 1086\n",
      "Snapshot 54 - total number of all pairs, median pairs, and low median major pairs: 218424, 18202, 1070\n",
      "Snapshot 55 - total number of all pairs, median pairs, and low median major pairs: 218040, 18170, 1053\n",
      "Snapshot 56 - total number of all pairs, median pairs, and low median major pairs: 217416, 18118, 1023\n",
      "Snapshot 57 - total number of all pairs, median pairs, and low median major pairs: 216732, 18061, 995\n",
      "Snapshot 58 - total number of all pairs, median pairs, and low median major pairs: 215952, 17996, 970\n",
      "Snapshot 59 - total number of all pairs, median pairs, and low median major pairs: 215376, 17948, 986\n",
      "Snapshot 60 - total number of all pairs, median pairs, and low median major pairs: 215364, 17947, 966\n",
      "Snapshot 61 - total number of all pairs, median pairs, and low median major pairs: 215592, 17966, 913\n",
      "Snapshot 62 - total number of all pairs, median pairs, and low median major pairs: 214284, 17857, 889\n",
      "Snapshot 63 - total number of all pairs, median pairs, and low median major pairs: 213192, 17766, 857\n",
      "Snapshot 64 - total number of all pairs, median pairs, and low median major pairs: 213624, 17802, 839\n",
      "Snapshot 65 - total number of all pairs, median pairs, and low median major pairs: 213372, 17781, 832\n",
      "Snapshot 66 - total number of all pairs, median pairs, and low median major pairs: 212580, 17715, 827\n",
      "Snapshot 67 - total number of all pairs, median pairs, and low median major pairs: 210624, 17552, 809\n",
      "Snapshot 68 - total number of all pairs, median pairs, and low median major pairs: 209268, 17439, 783\n",
      "Snapshot 69 - total number of all pairs, median pairs, and low median major pairs: 208656, 17388, 739\n",
      "Snapshot 70 - total number of all pairs, median pairs, and low median major pairs: 208500, 17375, 727\n",
      "Snapshot 71 - total number of all pairs, median pairs, and low median major pairs: 207252, 17271, 711\n",
      "Snapshot 72 - total number of all pairs, median pairs, and low median major pairs: 206808, 17234, 696\n",
      "Snapshot 73 - total number of all pairs, median pairs, and low median major pairs: 206496, 17208, 706\n",
      "Snapshot 74 - total number of all pairs, median pairs, and low median major pairs: 204780, 17065, 696\n",
      "Snapshot 75 - total number of all pairs, median pairs, and low median major pairs: 203772, 16981, 686\n",
      "Snapshot 76 - total number of all pairs, median pairs, and low median major pairs: 202872, 16906, 664\n",
      "Snapshot 77 - total number of all pairs, median pairs, and low median major pairs: 201924, 16827, 663\n",
      "Snapshot 78 - total number of all pairs, median pairs, and low median major pairs: 201168, 16764, 647\n",
      "Snapshot 79 - total number of all pairs, median pairs, and low median major pairs: 200160, 16680, 621\n",
      "Snapshot 80 - total number of all pairs, median pairs, and low median major pairs: 198372, 16531, 619\n",
      "Snapshot 81 - total number of all pairs, median pairs, and low median major pairs: 197904, 16492, 628\n",
      "Snapshot 82 - total number of all pairs, median pairs, and low median major pairs: 197208, 16434, 583\n",
      "Snapshot 83 - total number of all pairs, median pairs, and low median major pairs: 196368, 16364, 577\n",
      "Snapshot 84 - total number of all pairs, median pairs, and low median major pairs: 196020, 16335, 556\n",
      "Snapshot 85 - total number of all pairs, median pairs, and low median major pairs: 195120, 16260, 547\n",
      "Snapshot 86 - total number of all pairs, median pairs, and low median major pairs: 194880, 16240, 533\n",
      "Snapshot 87 - total number of all pairs, median pairs, and low median major pairs: 193416, 16118, 548\n",
      "Snapshot 88 - total number of all pairs, median pairs, and low median major pairs: 193056, 16088, 524\n",
      "Snapshot 89 - total number of all pairs, median pairs, and low median major pairs: 191460, 15955, 525\n",
      "Snapshot 90 - total number of all pairs, median pairs, and low median major pairs: 190140, 15845, 511\n",
      "Snapshot 91 - total number of all pairs, median pairs, and low median major pairs: 189636, 15803, 504\n",
      "Snapshot 92 - total number of all pairs, median pairs, and low median major pairs: 188928, 15744, 495\n",
      "Snapshot 93 - total number of all pairs, median pairs, and low median major pairs: 188808, 15734, 465\n",
      "Snapshot 94 - total number of all pairs, median pairs, and low median major pairs: 187860, 15655, 437\n",
      "Snapshot 95 - total number of all pairs, median pairs, and low median major pairs: 187140, 15595, 433\n",
      "Snapshot 96 - total number of all pairs, median pairs, and low median major pairs: 186852, 15571, 424\n",
      "Snapshot 97 - total number of all pairs, median pairs, and low median major pairs: 185796, 15483, 405\n",
      "Snapshot 98 - total number of all pairs, median pairs, and low median major pairs: 185064, 15422, 395\n",
      "Snapshot 99 - total number of all pairs, median pairs, and low median major pairs: 184740, 15395, 389\n"
     ]
    }
   ],
   "source": [
    "for i in np.arange(0,100,1):\n",
    "    if i == 48:\n",
    "        continue\n",
    "    pull_pairs(i, \"low\", \"major\")"
   ]
  },
  {
   "cell_type": "code",
   "execution_count": null,
   "id": "8c2e2b60-2cf3-404c-9988-d9db0d967e49",
   "metadata": {},
   "outputs": [],
   "source": []
  }
 ],
 "metadata": {
  "kernelspec": {
   "display_name": "tart",
   "language": "python",
   "name": "tart"
  },
  "language_info": {
   "codemirror_mode": {
    "name": "ipython",
    "version": 3
   },
   "file_extension": ".py",
   "mimetype": "text/x-python",
   "name": "python",
   "nbconvert_exporter": "python",
   "pygments_lexer": "ipython3",
   "version": "3.8.18"
  }
 },
 "nbformat": 4,
 "nbformat_minor": 5
}
