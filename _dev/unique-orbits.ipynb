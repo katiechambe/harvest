{
 "cells": [
  {
   "cell_type": "code",
   "execution_count": 1,
   "id": "7ad2e31e-c71e-4034-9d20-18cd0fc803da",
   "metadata": {},
   "outputs": [],
   "source": [
    "import h5py\n",
    "import numpy as np\n",
    "import matplotlib.pyplot as plt\n",
    "from harvesting_tools.harvest_paths import SetupPaths"
   ]
  },
  {
   "cell_type": "code",
   "execution_count": 2,
   "id": "ccf2dcbc-24ae-496c-bcf4-562ef9c4ee3a",
   "metadata": {},
   "outputs": [],
   "source": [
    "path_to_harvest = \"/xdisk/gbesla/katiechambe/harvest\"\n",
    "paths = SetupPaths(path_to_harvest)"
   ]
  },
  {
   "cell_type": "markdown",
   "id": "3d445767-c231-4258-a61f-962f5085848e",
   "metadata": {},
   "source": [
    "# Check for common ids"
   ]
  },
  {
   "cell_type": "code",
   "execution_count": 3,
   "id": "0a05f677-b42a-421c-96a1-9e3a82649ada",
   "metadata": {},
   "outputs": [],
   "source": [
    "# check if there are any common ids between snapshot 40 and 41\n",
    "orbit_dict = {}\n",
    "for snap in [40,41,42]:\n",
    "    f = h5py.File(f\"{paths.path_orbits}/highmass_major_{snap}.hdf5\",'r')\n",
    "    orbit_dict[str(snap)] = {}\n",
    "    for key, val in f.items():\n",
    "        orbit_dict[str(snap)][key] = np.array(val)\n",
    "    f.close()\n",
    "\n",
    "f = h5py.File(f\"{paths.path_misc}snapshot_data.hdf5\",'r')\n",
    "snap_dict = {}\n",
    "for key, val in f.items():\n",
    "    snap_dict[key] = np.array(val)\n",
    "f.close()"
   ]
  },
  {
   "cell_type": "code",
   "execution_count": 4,
   "id": "81d8dee2-7fee-447d-baa8-5042e81ed149",
   "metadata": {},
   "outputs": [],
   "source": [
    "xx = orbit_dict['40']['PairKey']\n",
    "yy = orbit_dict['41']['PairKey']\n",
    "zz = orbit_dict['42']['PairKey']"
   ]
  },
  {
   "cell_type": "code",
   "execution_count": 5,
   "id": "cd76bfa0-5eb8-47fc-bbc9-dffd5224ad52",
   "metadata": {},
   "outputs": [
    {
     "name": "stdout",
     "output_type": "stream",
     "text": [
      "212 237 241\n"
     ]
    }
   ],
   "source": [
    "print(len(xx),len(yy),len(zz))"
   ]
  },
  {
   "cell_type": "code",
   "execution_count": 9,
   "id": "32edcc90-55d2-4609-9c36-ddbde64231e1",
   "metadata": {},
   "outputs": [
    {
     "name": "stdout",
     "output_type": "stream",
     "text": [
      "Total num of pairs in snaps 40-42: 690\n",
      "Number of unique pairs in snaps 40-42: 369\n"
     ]
    }
   ],
   "source": [
    "alpha = np.concatenate((xx,yy,zz))\n",
    "print(\"Total num of pairs in snaps 40-42:\",len(alpha))\n",
    "print(\"Number of unique pairs in snaps 40-42:\",len(np.unique(alpha)))"
   ]
  },
  {
   "cell_type": "markdown",
   "id": "fc5b0958-25a4-47d1-b7f8-ef86b4b07bad",
   "metadata": {},
   "source": [
    "# Compile all unique orbits into new data files"
   ]
  },
  {
   "cell_type": "code",
   "execution_count": 16,
   "id": "870dbfc8-096e-49d1-acc9-a0ed237792b5",
   "metadata": {},
   "outputs": [],
   "source": [
    "def get_unique(size=\"high\", type=\"major\"):\n",
    "    # initialize a dict with all the keys from any one of the orbit files\n",
    "    unique_frame = {}\n",
    "    for i in orbit_dict['40'].keys():\n",
    "        unique_frame[i] = []\n",
    "        \n",
    "    # go through each snapshot and add orbits with unique keys:\n",
    "    for snapnum in range(100):    \n",
    "        if snapnum == 48:\n",
    "            continue\n",
    "        \n",
    "        orbit = {}\n",
    "        f = h5py.File(f\"{paths.path_orbits}/{size}mass_{type}_{snapnum}.hdf5\",'r')\n",
    "        for key, val in f.items():\n",
    "            orbit[key] = np.array(val)\n",
    "        f.close()\n",
    "    \n",
    "        for hua in range(len(orbit['PairKey'])):\n",
    "            pk = orbit['PairKey'][hua]\n",
    "            if pk in unique_frame['PairKey']:\n",
    "                continue\n",
    "            else:\n",
    "                for key in unique_frame.keys():\n",
    "                    if key not in [\"Redshift\",\"Scale\",\"Snapshot\"]:\n",
    "                        unique_frame[key].append(orbit[key][hua])\n",
    "                    elif key==\"Snapshot\":\n",
    "                        unique_frame[key].append(snapnum)\n",
    "\n",
    "    return unique_frame\n",
    "\n",
    "                \n"
   ]
  },
  {
   "cell_type": "code",
   "execution_count": 17,
   "id": "eae594cb-4255-4e62-80b1-5b0ed22a5736",
   "metadata": {},
   "outputs": [],
   "source": [
    "info_dict = {\"Redshift\":\"Redshift of snapshot\",\n",
    "              \"Scale\":\"Scale of snapshot\",\n",
    "              \"Snapshot\":\"Snapshot number\",\n",
    "              \"GroupNum\":\"FoF group number at snapshot\",\n",
    "              \"SubfindID1\":\"Subhalo ID of primary at selected redshift\",\n",
    "              \"SubfindID2\":\"Subhalo ID of secondary at selected redshift\",\n",
    "              \"SubhaloMass1\":\"Subhalo mass at selected redshift in 1e10*Msun\",\n",
    "              \"SubhaloMass2\":\"Subhalo mass at selected redshift in 1e10*Msun\",\n",
    "              \"StellarMass1\":\"Stellar mass from median AM at selected redshift\",\n",
    "              \"StellarMass2\":\"Stellar mass from median AM at selected redshift\",\n",
    "              \"StellarMassRatio\":\"Stellar mass ratio at selected redshift\",\n",
    "              \"MergeFlag\":\"True if subhalos will merge\", \n",
    "              \"MergeRedshift\":\"Redshift of 'merger'\",\n",
    "              \"MergeSnapshot\":\"Snapshot at which 'merger' has occured\",\n",
    "              \"InfallRedshift\":\"First redshift where Group is the same\",\n",
    "              \"InfallSnapshot\":\"First snapshot where Group is the same\",\n",
    "              \"PairKey\":\"Unique identifying key for each pair (same between snapshots for same pair)\",\n",
    "              \"GroupFlag\":\"True if subhalos are in the same group\",\n",
    "              \"GroupRvir\":\"Radius of primary group in kpc\",\n",
    "              \"Separations\":\"Physical separation between pair in kpc\",\n",
    "              \"SeparationsComoving\":\"Comoving separation between pair in ckpc/h\",\n",
    "              \"SeparationsScaled\":\"Separation scaled by radius of primary group, dimensionless\",\n",
    "              \"RelativeVelocity\":\"Relative velocity between pair in km/s\",\n",
    "              \"SubhaloPos1\":\"Position of subhalo in ckpc/h\",\n",
    "              \"SubhaloPos2\":\"Position of subhalo in ckpc/h\",\n",
    "              \"SubhaloVel1\":\"Velocity of subhalo in km/s\",\n",
    "              \"SubhaloVel2\":\"Velocity of subhalo in km/s\"\n",
    "            }"
   ]
  },
  {
   "cell_type": "code",
   "execution_count": 18,
   "id": "aa4c1bb8-4f53-486c-ba86-ad73b14e5009",
   "metadata": {},
   "outputs": [
    {
     "name": "stdout",
     "output_type": "stream",
     "text": [
      "Completed high mass major\n",
      "Completed high mass minor\n",
      "Completed low mass major\n",
      "Completed low mass minor\n"
     ]
    }
   ],
   "source": [
    "for size in [\"high\",\"low\"]:\n",
    "    for type in [\"major\",\"minor\"]:\n",
    "        unique_data = get_unique(size, type)\n",
    "        \n",
    "        f = h5py.File(f\"{paths.path_orbits}unique-orbits/{size}mass-{type}.hdf5\", 'w')\n",
    "        header_dict = {\"Details\":f\"Full UNIQUE sample of {size} mass {type} pair orbits\",\n",
    "                \"Simulation\":\"TNG100-1\"}\n",
    "        \n",
    "        dset = f.create_group('/Header')\n",
    "        for key in header_dict.keys():\n",
    "            dset.attrs[key] = header_dict[key]\n",
    "        \n",
    "        for key, val in unique_data.items():\n",
    "            if key not in [\"Redshift\",\"Scale\"]:\n",
    "                val = np.array(val)\n",
    "                dset = f.create_dataset(f'/{key}', \n",
    "                                        shape=val.shape,\n",
    "                                        dtype=val.dtype)\n",
    "                dset.attrs[key] = info_dict[key]\n",
    "                dset[:] = val\n",
    "        \n",
    "        f.close()\n",
    "        print(f\"Completed {size} mass {type}\")"
   ]
  },
  {
   "cell_type": "code",
   "execution_count": null,
   "id": "a9bf8729-c605-465f-8a4c-0e84510dad1b",
   "metadata": {},
   "outputs": [],
   "source": []
  }
 ],
 "metadata": {
  "kernelspec": {
   "display_name": "tart",
   "language": "python",
   "name": "tart"
  },
  "language_info": {
   "codemirror_mode": {
    "name": "ipython",
    "version": 3
   },
   "file_extension": ".py",
   "mimetype": "text/x-python",
   "name": "python",
   "nbconvert_exporter": "python",
   "pygments_lexer": "ipython3",
   "version": "3.8.18"
  }
 },
 "nbformat": 4,
 "nbformat_minor": 5
}
